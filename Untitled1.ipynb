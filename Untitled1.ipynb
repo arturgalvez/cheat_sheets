{
 "cells": [
  {
   "cell_type": "code",
   "execution_count": 3,
   "metadata": {},
   "outputs": [],
   "source": [
    "import numpy as np\n",
    "import pandas as pd\n",
    "import scipy\n",
    "import seaborn as sns\n",
    "from sklearn.model_selection import train_test_split\n",
    "from sklearn.metrics import accuracy_score, confusion_matrix\n",
    "from sklearn.manifold import TSNE\n",
    "from sklearn.preprocessing import MinMaxScaler\n",
    "import matplotlib.pyplot as plt\n",
    "from sklearn.cluster import KMeans\n",
    "from scipy.spatial.distance import cdist\n",
    "from wordcloud import WordCloud,STOPWORDS\n",
    "from sklearn import preprocessing\n",
    "\n",
    "\n",
    "%matplotlib inline"
   ]
  },
  {
   "cell_type": "code",
   "execution_count": 5,
   "metadata": {},
   "outputs": [
    {
     "data": {
      "text/html": [
       "<div>\n",
       "<style scoped>\n",
       "    .dataframe tbody tr th:only-of-type {\n",
       "        vertical-align: middle;\n",
       "    }\n",
       "\n",
       "    .dataframe tbody tr th {\n",
       "        vertical-align: top;\n",
       "    }\n",
       "\n",
       "    .dataframe thead th {\n",
       "        text-align: right;\n",
       "    }\n",
       "</style>\n",
       "<table border=\"1\" class=\"dataframe\">\n",
       "  <thead>\n",
       "    <tr style=\"text-align: right;\">\n",
       "      <th></th>\n",
       "      <th>CÓDIGO PRODUTO</th>\n",
       "      <th>SKU</th>\n",
       "      <th>Volume (ton)</th>\n",
       "      <th>Data</th>\n",
       "      <th>Ano Ajustado YTD</th>\n",
       "      <th>Hierarquia</th>\n",
       "      <th>Descrição Produto</th>\n",
       "      <th>Go To Market</th>\n",
       "    </tr>\n",
       "  </thead>\n",
       "  <tbody>\n",
       "    <tr>\n",
       "      <th>0</th>\n",
       "      <td>12345724</td>\n",
       "      <td>12345724-15</td>\n",
       "      <td>0.0</td>\n",
       "      <td>2019-05-01</td>\n",
       "      <td>2019</td>\n",
       "      <td>Hierarquia 5</td>\n",
       "      <td>Produto 47</td>\n",
       "      <td>Go To Market 1</td>\n",
       "    </tr>\n",
       "    <tr>\n",
       "      <th>1</th>\n",
       "      <td>12345726</td>\n",
       "      <td>12345726-238</td>\n",
       "      <td>0.0</td>\n",
       "      <td>2019-05-01</td>\n",
       "      <td>2019</td>\n",
       "      <td>Hierarquia 1</td>\n",
       "      <td>Produto 49</td>\n",
       "      <td>Go To Market 1</td>\n",
       "    </tr>\n",
       "    <tr>\n",
       "      <th>2</th>\n",
       "      <td>12345727</td>\n",
       "      <td>12345727-158</td>\n",
       "      <td>0.0</td>\n",
       "      <td>2019-12-01</td>\n",
       "      <td>2019</td>\n",
       "      <td>Hierarquia 1</td>\n",
       "      <td>Produto 50</td>\n",
       "      <td>Go To Market 1</td>\n",
       "    </tr>\n",
       "    <tr>\n",
       "      <th>3</th>\n",
       "      <td>12345738</td>\n",
       "      <td>12345738-158</td>\n",
       "      <td>0.0</td>\n",
       "      <td>2019-12-01</td>\n",
       "      <td>2019</td>\n",
       "      <td>Hierarquia 1</td>\n",
       "      <td>Produto 61</td>\n",
       "      <td>Go To Market 1</td>\n",
       "    </tr>\n",
       "    <tr>\n",
       "      <th>4</th>\n",
       "      <td>12345724</td>\n",
       "      <td>12345724-15</td>\n",
       "      <td>0.0</td>\n",
       "      <td>2019-12-01</td>\n",
       "      <td>2019</td>\n",
       "      <td>Hierarquia 5</td>\n",
       "      <td>Produto 47</td>\n",
       "      <td>Go To Market 1</td>\n",
       "    </tr>\n",
       "  </tbody>\n",
       "</table>\n",
       "</div>"
      ],
      "text/plain": [
       "   CÓDIGO PRODUTO           SKU  Volume (ton)       Data  Ano Ajustado YTD  \\\n",
       "0        12345724   12345724-15           0.0 2019-05-01              2019   \n",
       "1        12345726  12345726-238           0.0 2019-05-01              2019   \n",
       "2        12345727  12345727-158           0.0 2019-12-01              2019   \n",
       "3        12345738  12345738-158           0.0 2019-12-01              2019   \n",
       "4        12345724   12345724-15           0.0 2019-12-01              2019   \n",
       "\n",
       "     Hierarquia Descrição Produto    Go To Market  \n",
       "0  Hierarquia 5        Produto 47  Go To Market 1  \n",
       "1  Hierarquia 1        Produto 49  Go To Market 1  \n",
       "2  Hierarquia 1        Produto 50  Go To Market 1  \n",
       "3  Hierarquia 1        Produto 61  Go To Market 1  \n",
       "4  Hierarquia 5        Produto 47  Go To Market 1  "
      ]
     },
     "execution_count": 5,
     "metadata": {},
     "output_type": "execute_result"
    }
   ],
   "source": [
    "df = pd.read_excel(\"/home/galvez/Desktop/horta/horta2/Teste Prаtico 02 - Data Science.xlsx\")\n",
    "df.head()"
   ]
  },
  {
   "cell_type": "code",
   "execution_count": 6,
   "metadata": {},
   "outputs": [],
   "source": [
    "df2 = df.copy()"
   ]
  },
  {
   "cell_type": "code",
   "execution_count": 7,
   "metadata": {},
   "outputs": [
    {
     "data": {
      "text/plain": [
       "CÓDIGO PRODUTO          0\n",
       "SKU                  1560\n",
       "Volume (ton)            0\n",
       "Data                    0\n",
       "Ano Ajustado YTD        0\n",
       "Hierarquia              0\n",
       "Descrição Produto       0\n",
       "Go To Market            0\n",
       "dtype: int64"
      ]
     },
     "execution_count": 7,
     "metadata": {},
     "output_type": "execute_result"
    }
   ],
   "source": [
    "df2.isnull().sum()"
   ]
  },
  {
   "cell_type": "code",
   "execution_count": 9,
   "metadata": {},
   "outputs": [
    {
     "data": {
      "text/plain": [
       "(161520, 8)"
      ]
     },
     "execution_count": 9,
     "metadata": {},
     "output_type": "execute_result"
    }
   ],
   "source": [
    "df2.shape"
   ]
  },
  {
   "cell_type": "code",
   "execution_count": 10,
   "metadata": {},
   "outputs": [
    {
     "data": {
      "text/plain": [
       "count          161520\n",
       "unique           1799\n",
       "top       Produto 210\n",
       "freq             4983\n",
       "Name: Descrição Produto, dtype: object"
      ]
     },
     "execution_count": 10,
     "metadata": {},
     "output_type": "execute_result"
    }
   ],
   "source": [
    "df2['Descrição Produto'].describe()"
   ]
  },
  {
   "cell_type": "code",
   "execution_count": 13,
   "metadata": {},
   "outputs": [],
   "source": [
    "X = df2['Descrição Produto'].value_counts()"
   ]
  },
  {
   "cell_type": "code",
   "execution_count": 17,
   "metadata": {},
   "outputs": [],
   "source": [
    "df2 = df[['Data', 'Descrição Produto']] "
   ]
  },
  {
   "cell_type": "code",
   "execution_count": 18,
   "metadata": {},
   "outputs": [
    {
     "data": {
      "text/html": [
       "<div>\n",
       "<style scoped>\n",
       "    .dataframe tbody tr th:only-of-type {\n",
       "        vertical-align: middle;\n",
       "    }\n",
       "\n",
       "    .dataframe tbody tr th {\n",
       "        vertical-align: top;\n",
       "    }\n",
       "\n",
       "    .dataframe thead th {\n",
       "        text-align: right;\n",
       "    }\n",
       "</style>\n",
       "<table border=\"1\" class=\"dataframe\">\n",
       "  <thead>\n",
       "    <tr style=\"text-align: right;\">\n",
       "      <th></th>\n",
       "      <th>Data</th>\n",
       "      <th>Descrição Produto</th>\n",
       "    </tr>\n",
       "  </thead>\n",
       "  <tbody>\n",
       "    <tr>\n",
       "      <th>0</th>\n",
       "      <td>2019-05-01</td>\n",
       "      <td>Produto 47</td>\n",
       "    </tr>\n",
       "    <tr>\n",
       "      <th>1</th>\n",
       "      <td>2019-05-01</td>\n",
       "      <td>Produto 49</td>\n",
       "    </tr>\n",
       "    <tr>\n",
       "      <th>2</th>\n",
       "      <td>2019-12-01</td>\n",
       "      <td>Produto 50</td>\n",
       "    </tr>\n",
       "    <tr>\n",
       "      <th>3</th>\n",
       "      <td>2019-12-01</td>\n",
       "      <td>Produto 61</td>\n",
       "    </tr>\n",
       "    <tr>\n",
       "      <th>4</th>\n",
       "      <td>2019-12-01</td>\n",
       "      <td>Produto 47</td>\n",
       "    </tr>\n",
       "    <tr>\n",
       "      <th>...</th>\n",
       "      <td>...</td>\n",
       "      <td>...</td>\n",
       "    </tr>\n",
       "    <tr>\n",
       "      <th>161515</th>\n",
       "      <td>2021-05-01</td>\n",
       "      <td>Produto 751</td>\n",
       "    </tr>\n",
       "    <tr>\n",
       "      <th>161516</th>\n",
       "      <td>2021-05-01</td>\n",
       "      <td>Produto 751</td>\n",
       "    </tr>\n",
       "    <tr>\n",
       "      <th>161517</th>\n",
       "      <td>2021-05-01</td>\n",
       "      <td>Produto 752</td>\n",
       "    </tr>\n",
       "    <tr>\n",
       "      <th>161518</th>\n",
       "      <td>2021-05-01</td>\n",
       "      <td>Produto 378</td>\n",
       "    </tr>\n",
       "    <tr>\n",
       "      <th>161519</th>\n",
       "      <td>2021-05-01</td>\n",
       "      <td>Produto 1695</td>\n",
       "    </tr>\n",
       "  </tbody>\n",
       "</table>\n",
       "<p>161520 rows × 2 columns</p>\n",
       "</div>"
      ],
      "text/plain": [
       "             Data Descrição Produto\n",
       "0      2019-05-01        Produto 47\n",
       "1      2019-05-01        Produto 49\n",
       "2      2019-12-01        Produto 50\n",
       "3      2019-12-01        Produto 61\n",
       "4      2019-12-01        Produto 47\n",
       "...           ...               ...\n",
       "161515 2021-05-01       Produto 751\n",
       "161516 2021-05-01       Produto 751\n",
       "161517 2021-05-01       Produto 752\n",
       "161518 2021-05-01       Produto 378\n",
       "161519 2021-05-01      Produto 1695\n",
       "\n",
       "[161520 rows x 2 columns]"
      ]
     },
     "execution_count": 18,
     "metadata": {},
     "output_type": "execute_result"
    }
   ],
   "source": [
    "df2"
   ]
  },
  {
   "cell_type": "code",
   "execution_count": 19,
   "metadata": {},
   "outputs": [],
   "source": [
    "y_train = df2[\"Descrição Produto\"]\n",
    "X_train = df2[\"Data\"]"
   ]
  },
  {
   "cell_type": "code",
   "execution_count": 23,
   "metadata": {},
   "outputs": [
    {
     "data": {
      "text/html": [
       "<div>\n",
       "<style scoped>\n",
       "    .dataframe tbody tr th:only-of-type {\n",
       "        vertical-align: middle;\n",
       "    }\n",
       "\n",
       "    .dataframe tbody tr th {\n",
       "        vertical-align: top;\n",
       "    }\n",
       "\n",
       "    .dataframe thead th {\n",
       "        text-align: right;\n",
       "    }\n",
       "</style>\n",
       "<table border=\"1\" class=\"dataframe\">\n",
       "  <thead>\n",
       "    <tr style=\"text-align: right;\">\n",
       "      <th></th>\n",
       "      <th>Total</th>\n",
       "      <th>Percent</th>\n",
       "    </tr>\n",
       "  </thead>\n",
       "  <tbody>\n",
       "    <tr>\n",
       "      <th>SKU</th>\n",
       "      <td>1560</td>\n",
       "      <td>0.965825</td>\n",
       "    </tr>\n",
       "    <tr>\n",
       "      <th>Go To Market</th>\n",
       "      <td>0</td>\n",
       "      <td>0.000000</td>\n",
       "    </tr>\n",
       "    <tr>\n",
       "      <th>Descrição Produto</th>\n",
       "      <td>0</td>\n",
       "      <td>0.000000</td>\n",
       "    </tr>\n",
       "    <tr>\n",
       "      <th>Hierarquia</th>\n",
       "      <td>0</td>\n",
       "      <td>0.000000</td>\n",
       "    </tr>\n",
       "    <tr>\n",
       "      <th>Ano Ajustado YTD</th>\n",
       "      <td>0</td>\n",
       "      <td>0.000000</td>\n",
       "    </tr>\n",
       "    <tr>\n",
       "      <th>Data</th>\n",
       "      <td>0</td>\n",
       "      <td>0.000000</td>\n",
       "    </tr>\n",
       "    <tr>\n",
       "      <th>Volume (ton)</th>\n",
       "      <td>0</td>\n",
       "      <td>0.000000</td>\n",
       "    </tr>\n",
       "    <tr>\n",
       "      <th>CÓDIGO PRODUTO</th>\n",
       "      <td>0</td>\n",
       "      <td>0.000000</td>\n",
       "    </tr>\n",
       "  </tbody>\n",
       "</table>\n",
       "</div>"
      ],
      "text/plain": [
       "                   Total   Percent\n",
       "SKU                 1560  0.965825\n",
       "Go To Market           0  0.000000\n",
       "Descrição Produto      0  0.000000\n",
       "Hierarquia             0  0.000000\n",
       "Ano Ajustado YTD       0  0.000000\n",
       "Data                   0  0.000000\n",
       "Volume (ton)           0  0.000000\n",
       "CÓDIGO PRODUTO         0  0.000000"
      ]
     },
     "execution_count": 23,
     "metadata": {},
     "output_type": "execute_result"
    }
   ],
   "source": [
    "total = df.isnull().sum(axis=0).sort_values(ascending=False)\n",
    "percent = ((df.isnull().sum(axis=0)/df.isnull().count(axis=0))*100).sort_values(ascending=False)\n",
    "\n",
    "# count the number of null values in the column and their perecentage of the total data\n",
    "missing_data_columns = pd.concat([total, percent], axis=1, keys=['Total', 'Percent'])\n",
    "missing_data_columns"
   ]
  },
  {
   "cell_type": "code",
   "execution_count": 24,
   "metadata": {},
   "outputs": [],
   "source": [
    "df['Date']=pd.to_datetime(df['Data'])"
   ]
  },
  {
   "cell_type": "code",
   "execution_count": 26,
   "metadata": {},
   "outputs": [],
   "source": [
    "df3 = df.groupby('Data')['Descrição Produto'].sum().reset_index()\n"
   ]
  },
  {
   "cell_type": "code",
   "execution_count": 27,
   "metadata": {},
   "outputs": [
    {
     "data": {
      "text/plain": [
       "DatetimeIndex(['2019-05-01', '2019-05-01', '2019-12-01', '2019-12-01',\n",
       "               '2019-12-01', '2019-12-01', '2019-11-01', '2019-12-01',\n",
       "               '2020-04-01', '2020-04-01',\n",
       "               ...\n",
       "               '2021-05-01', '2021-05-01', '2021-05-01', '2021-05-01',\n",
       "               '2021-05-01', '2021-05-01', '2021-05-01', '2021-05-01',\n",
       "               '2021-05-01', '2021-05-01'],\n",
       "              dtype='datetime64[ns]', name='Data', length=161520, freq=None)"
      ]
     },
     "execution_count": 27,
     "metadata": {},
     "output_type": "execute_result"
    }
   ],
   "source": [
    "df3 = df.set_index('Data')\n",
    "df3.index"
   ]
  },
  {
   "cell_type": "code",
   "execution_count": 51,
   "metadata": {},
   "outputs": [
    {
     "data": {
      "text/html": [
       "<div>\n",
       "<style scoped>\n",
       "    .dataframe tbody tr th:only-of-type {\n",
       "        vertical-align: middle;\n",
       "    }\n",
       "\n",
       "    .dataframe tbody tr th {\n",
       "        vertical-align: top;\n",
       "    }\n",
       "\n",
       "    .dataframe thead th {\n",
       "        text-align: right;\n",
       "    }\n",
       "</style>\n",
       "<table border=\"1\" class=\"dataframe\">\n",
       "  <thead>\n",
       "    <tr style=\"text-align: right;\">\n",
       "      <th></th>\n",
       "      <th>CÓDIGO PRODUTO</th>\n",
       "      <th>SKU</th>\n",
       "      <th>Volume (ton)</th>\n",
       "      <th>Ano Ajustado YTD</th>\n",
       "      <th>Hierarquia</th>\n",
       "      <th>Descrição Produto</th>\n",
       "      <th>Go To Market</th>\n",
       "      <th>Date</th>\n",
       "      <th>y</th>\n",
       "    </tr>\n",
       "    <tr>\n",
       "      <th>Data</th>\n",
       "      <th></th>\n",
       "      <th></th>\n",
       "      <th></th>\n",
       "      <th></th>\n",
       "      <th></th>\n",
       "      <th></th>\n",
       "      <th></th>\n",
       "      <th></th>\n",
       "      <th></th>\n",
       "    </tr>\n",
       "  </thead>\n",
       "  <tbody>\n",
       "    <tr>\n",
       "      <th>2019-05-01</th>\n",
       "      <td>12345724</td>\n",
       "      <td>12345724-15</td>\n",
       "      <td>0.0</td>\n",
       "      <td>2019</td>\n",
       "      <td>Hierarquia 5</td>\n",
       "      <td>Produto 47</td>\n",
       "      <td>Go To Market 1</td>\n",
       "      <td>2019-05-01</td>\n",
       "      <td>1</td>\n",
       "    </tr>\n",
       "    <tr>\n",
       "      <th>2019-05-01</th>\n",
       "      <td>12345726</td>\n",
       "      <td>12345726-238</td>\n",
       "      <td>0.0</td>\n",
       "      <td>2019</td>\n",
       "      <td>Hierarquia 1</td>\n",
       "      <td>Produto 49</td>\n",
       "      <td>Go To Market 1</td>\n",
       "      <td>2019-05-01</td>\n",
       "      <td>1</td>\n",
       "    </tr>\n",
       "    <tr>\n",
       "      <th>2019-12-01</th>\n",
       "      <td>12345727</td>\n",
       "      <td>12345727-158</td>\n",
       "      <td>0.0</td>\n",
       "      <td>2019</td>\n",
       "      <td>Hierarquia 1</td>\n",
       "      <td>Produto 50</td>\n",
       "      <td>Go To Market 1</td>\n",
       "      <td>2019-12-01</td>\n",
       "      <td>1</td>\n",
       "    </tr>\n",
       "    <tr>\n",
       "      <th>2019-12-01</th>\n",
       "      <td>12345738</td>\n",
       "      <td>12345738-158</td>\n",
       "      <td>0.0</td>\n",
       "      <td>2019</td>\n",
       "      <td>Hierarquia 1</td>\n",
       "      <td>Produto 61</td>\n",
       "      <td>Go To Market 1</td>\n",
       "      <td>2019-12-01</td>\n",
       "      <td>1</td>\n",
       "    </tr>\n",
       "    <tr>\n",
       "      <th>2019-12-01</th>\n",
       "      <td>12345724</td>\n",
       "      <td>12345724-15</td>\n",
       "      <td>0.0</td>\n",
       "      <td>2019</td>\n",
       "      <td>Hierarquia 5</td>\n",
       "      <td>Produto 47</td>\n",
       "      <td>Go To Market 1</td>\n",
       "      <td>2019-12-01</td>\n",
       "      <td>1</td>\n",
       "    </tr>\n",
       "  </tbody>\n",
       "</table>\n",
       "</div>"
      ],
      "text/plain": [
       "            CÓDIGO PRODUTO           SKU  Volume (ton)  Ano Ajustado YTD  \\\n",
       "Data                                                                       \n",
       "2019-05-01        12345724   12345724-15           0.0              2019   \n",
       "2019-05-01        12345726  12345726-238           0.0              2019   \n",
       "2019-12-01        12345727  12345727-158           0.0              2019   \n",
       "2019-12-01        12345738  12345738-158           0.0              2019   \n",
       "2019-12-01        12345724   12345724-15           0.0              2019   \n",
       "\n",
       "              Hierarquia Descrição Produto    Go To Market       Date  y  \n",
       "Data                                                                      \n",
       "2019-05-01  Hierarquia 5        Produto 47  Go To Market 1 2019-05-01  1  \n",
       "2019-05-01  Hierarquia 1        Produto 49  Go To Market 1 2019-05-01  1  \n",
       "2019-12-01  Hierarquia 1        Produto 50  Go To Market 1 2019-12-01  1  \n",
       "2019-12-01  Hierarquia 1        Produto 61  Go To Market 1 2019-12-01  1  \n",
       "2019-12-01  Hierarquia 5        Produto 47  Go To Market 1 2019-12-01  1  "
      ]
     },
     "execution_count": 51,
     "metadata": {},
     "output_type": "execute_result"
    }
   ],
   "source": [
    "df3.head()"
   ]
  },
  {
   "cell_type": "code",
   "execution_count": 52,
   "metadata": {},
   "outputs": [],
   "source": [
    "df3['y'] = 1"
   ]
  },
  {
   "cell_type": "code",
   "execution_count": 67,
   "metadata": {},
   "outputs": [
    {
     "ename": "AttributeError",
     "evalue": "'list' object has no attribute 'sum'",
     "output_type": "error",
     "traceback": [
      "\u001b[0;31m---------------------------------------------------------------------------\u001b[0m",
      "\u001b[0;31mAttributeError\u001b[0m                            Traceback (most recent call last)",
      "\u001b[0;32m<ipython-input-67-8b8ed534c0f7>\u001b[0m in \u001b[0;36m<module>\u001b[0;34m\u001b[0m\n\u001b[0;32m----> 1\u001b[0;31m \u001b[0mdf4\u001b[0m \u001b[0;34m=\u001b[0m \u001b[0mdf3\u001b[0m\u001b[0;34m.\u001b[0m\u001b[0mgroupby\u001b[0m\u001b[0;34m(\u001b[0m\u001b[0;34m[\u001b[0m\u001b[0;34m'Data'\u001b[0m\u001b[0;34m,\u001b[0m \u001b[0;34m'Descrição Produto'\u001b[0m\u001b[0;34m]\u001b[0m\u001b[0;34m)\u001b[0m\u001b[0;34m.\u001b[0m\u001b[0mtransform\u001b[0m\u001b[0;34m(\u001b[0m\u001b[0;34m[\u001b[0m\u001b[0;34m'y'\u001b[0m\u001b[0;34m]\u001b[0m\u001b[0;34m.\u001b[0m\u001b[0msum\u001b[0m\u001b[0;34m(\u001b[0m\u001b[0;34m)\u001b[0m\u001b[0;34m)\u001b[0m\u001b[0;34m\u001b[0m\u001b[0;34m\u001b[0m\u001b[0m\n\u001b[0m",
      "\u001b[0;31mAttributeError\u001b[0m: 'list' object has no attribute 'sum'"
     ]
    }
   ],
   "source": [
    "df4 = df3.groupby(['Data', 'Descrição Produto']).transform(['y'].sum())"
   ]
  },
  {
   "cell_type": "code",
   "execution_count": 61,
   "metadata": {},
   "outputs": [
    {
     "data": {
      "text/plain": [
       "Data        Descrição Produto\n",
       "2019-03-01  Produto 1            25\n",
       "            Produto 10           25\n",
       "            Produto 1001          1\n",
       "            Produto 1002          1\n",
       "            Produto 1003          3\n",
       "                                 ..\n",
       "2021-05-01  Produto 995          14\n",
       "            Produto 996          16\n",
       "            Produto 997           4\n",
       "            Produto 998           4\n",
       "            Produto 999           4\n",
       "Name: y, Length: 17769, dtype: int64"
      ]
     },
     "execution_count": 61,
     "metadata": {},
     "output_type": "execute_result"
    }
   ],
   "source": [
    "df4"
   ]
  },
  {
   "cell_type": "code",
   "execution_count": null,
   "metadata": {},
   "outputs": [],
   "source": []
  },
  {
   "cell_type": "code",
   "execution_count": null,
   "metadata": {},
   "outputs": [],
   "source": []
  },
  {
   "cell_type": "code",
   "execution_count": null,
   "metadata": {},
   "outputs": [],
   "source": []
  },
  {
   "cell_type": "code",
   "execution_count": null,
   "metadata": {},
   "outputs": [],
   "source": []
  },
  {
   "cell_type": "code",
   "execution_count": null,
   "metadata": {},
   "outputs": [],
   "source": [
    "data = data.groupby('Date')['Weekly_Sales'].sum().reset_index()\n"
   ]
  }
 ],
 "metadata": {
  "kernelspec": {
   "display_name": "Python 3",
   "language": "python",
   "name": "python3"
  },
  "language_info": {
   "codemirror_mode": {
    "name": "ipython",
    "version": 3
   },
   "file_extension": ".py",
   "mimetype": "text/x-python",
   "name": "python",
   "nbconvert_exporter": "python",
   "pygments_lexer": "ipython3",
   "version": "3.8.5"
  }
 },
 "nbformat": 4,
 "nbformat_minor": 4
}
